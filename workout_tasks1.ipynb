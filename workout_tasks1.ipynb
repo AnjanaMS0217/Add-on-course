{
  "nbformat": 4,
  "nbformat_minor": 0,
  "metadata": {
    "colab": {
      "provenance": []
    },
    "kernelspec": {
      "name": "python3",
      "display_name": "Python 3"
    },
    "language_info": {
      "name": "python"
    }
  },
  "cells": [
    {
      "cell_type": "markdown",
      "source": [],
      "metadata": {
        "id": "Due5bKuip3OA"
      }
    },
    {
      "cell_type": "markdown",
      "source": [
        "Write a function to calculate the sum of digits in a number entered by user.\n",
        "\n",
        "\n",
        "\n",
        "*eg: If the number user entered is 555 then the sum is 5+5+5 = 15*\n",
        "\n",
        "\n",
        "\n"
      ],
      "metadata": {
        "id": "VpXGI-QPHSxt"
      }
    },
    {
      "cell_type": "code",
      "source": [
        "def sum_of_digits():\n",
        "  number=input(\"Enter the number-\")\n",
        "  sum_of_digits=sum(int(digit)for digit in number)\n",
        "  print(\"Sum of digits=\",sum_of_digits)\n",
        "sum_of_digits()\n",
        "\n"
      ],
      "metadata": {
        "id": "tJXltsEhMbtD",
        "colab": {
          "base_uri": "https://localhost:8080/"
        },
        "outputId": "a5649c20-5590-4fee-e9f0-16b3366b48aa"
      },
      "execution_count": null,
      "outputs": [
        {
          "output_type": "stream",
          "name": "stdout",
          "text": [
            "Enter the number-555\n",
            "Sum of digits= 15\n"
          ]
        }
      ]
    },
    {
      "cell_type": "markdown",
      "source": [
        "Create a list \"mylist\" that contains integer numbers, float numbers, and strings.\n",
        "\n",
        "Now write a function that creates a dictionary with each data types and its counts.\n",
        "\n",
        "*if the list is mylist = [1, 7, 15, 25, 1.5, 55.8, \"Arun\", \"Akhil\", \"Akshay\"],*\n",
        "\n",
        "*then the dictionary will have {\"integer numbers\": 4, \"floating numbers\":2, \"Strings\": 3}*"
      ],
      "metadata": {
        "id": "ZyybmH3RP2eb"
      }
    },
    {
      "cell_type": "code",
      "source": [
        "my_list=[1,2,3,2.5,7.3,5.6,\"anu\",\"ammu\",\"appu\"]\n",
        "def f(my_list):\n",
        "  number_of_integers=0\n",
        "  number_of_floats=0\n",
        "  number_of_strings=0\n",
        "  for i in my_list:\n",
        "    if type(i)==int:\n",
        "      number_of_integers+=1\n",
        "    elif type(i)==float:\n",
        "      number_of_floats+=1\n",
        "    elif type(i)==str:\n",
        "      number_of_strings+=1\n",
        "  return{\"integers\":number_of_integers,\"floats\":number_of_floats,\"strings\":number_of_strings}\n",
        "result=f(my_list)\n",
        "print(result)"
      ],
      "metadata": {
        "id": "LKgujYgLPZ6s",
        "colab": {
          "base_uri": "https://localhost:8080/"
        },
        "outputId": "742ec69a-3807-424a-c120-b04cf1a88282"
      },
      "execution_count": null,
      "outputs": [
        {
          "output_type": "stream",
          "name": "stdout",
          "text": [
            "{'integers': 3, 'floats': 3, 'strings': 3}\n"
          ]
        }
      ]
    },
    {
      "cell_type": "markdown",
      "source": [
        "Write a function that takes a list of numbers and returns a dictionary with 'sum', 'average', 'max', and 'min' values of the list."
      ],
      "metadata": {
        "id": "tDjsF7rX5NhM"
      }
    },
    {
      "cell_type": "code",
      "source": [
        "my_list=[1,2,3,4,5]\n",
        "def f(my_list):\n",
        "  total=sum(my_list)\n",
        "  average=total/len(my_list)\n",
        "  minimum=min(my_list)\n",
        "  maximum=max(my_list)\n",
        "  return{\"sum\":total,\"average\":average,\"min\":minimum,\"max\":maximum}\n",
        "result=f(my_list)\n",
        "print(result)"
      ],
      "metadata": {
        "id": "kxTodZ0Z5p0X",
        "colab": {
          "base_uri": "https://localhost:8080/"
        },
        "outputId": "d6dfb618-0d49-4977-c3c5-5cd10f2f0722"
      },
      "execution_count": null,
      "outputs": [
        {
          "output_type": "stream",
          "name": "stdout",
          "text": [
            "{'sum': 15, 'average': 3.0, 'min': 1, 'max': 5}\n"
          ]
        }
      ]
    },
    {
      "cell_type": "markdown",
      "source": [
        "Create a function that takes a string and returns a dictionary with counts of vowels and consonants."
      ],
      "metadata": {
        "id": "w1fdqPh16ULv"
      }
    },
    {
      "cell_type": "code",
      "source": [
        "def count(string):\n",
        "  vowels=\"aeiouAEIOU\"\n",
        "  vowel_count=0\n",
        "  consonant_count=0\n",
        "  for char in string:\n",
        "    if char in vowels:\n",
        "      vowel_count+=1\n",
        "    else:\n",
        "      consonant_count+=1\n",
        "  return {\"vowels\":vowel_count,\"consonants\":consonant_count}\n",
        "string=\"HelloWorld\"\n",
        "result=count(string)\n",
        "print(result)\n",
        "\n",
        "\n",
        ""
      ],
      "metadata": {
        "id": "wNMJznzM6zil",
        "colab": {
          "base_uri": "https://localhost:8080/"
        },
        "outputId": "93844e70-17e1-4a96-f45e-7bf396bd6ca1"
      },
      "execution_count": 21,
      "outputs": [
        {
          "output_type": "stream",
          "name": "stdout",
          "text": [
            "{'vowels': 3, 'consonants': 7}\n"
          ]
        }
      ]
    },
    {
      "cell_type": "markdown",
      "source": [
        "Write a function that checks if a number is a strong number\n",
        "\n",
        "*(sum of factorials of digits equals the number, e.g., 145 = 1! + 4! + 5!).*"
      ],
      "metadata": {
        "id": "QcJ7feHW7I-L"
      }
    },
    {
      "cell_type": "code",
      "source": [],
      "metadata": {
        "id": "iR4MI-zABGIz"
      },
      "execution_count": null,
      "outputs": []
    }
  ]
}